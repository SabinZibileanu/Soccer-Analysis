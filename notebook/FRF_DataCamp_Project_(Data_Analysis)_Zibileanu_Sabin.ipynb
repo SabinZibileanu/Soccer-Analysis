{
  "cells": [
    {
      "cell_type": "markdown",
      "metadata": {
        "id": "ZIKmpext4fgE"
      },
      "source": [
        "Prerequisites"
      ]
    },
    {
      "cell_type": "code",
      "execution_count": null,
      "metadata": {
        "id": "SQxhsBNW0tdI"
      },
      "outputs": [],
      "source": [
        "import pandas as pd\n",
        "from matplotlib import pyplot as plt\n",
        "from collections import defaultdict\n",
        "from matplotlib.patches import Arc\n",
        "import seaborn as sns\n",
        "import numpy as np\n",
        "import json"
      ]
    },
    {
      "cell_type": "markdown",
      "metadata": {
        "id": "2XhN0KxsyqBV"
      },
      "source": [
        "Reading the data and doing some analysis"
      ]
    },
    {
      "cell_type": "code",
      "execution_count": null,
      "metadata": {
        "id": "jKwsIp2A1xG4"
      },
      "outputs": [],
      "source": [
        "EVENT_DATA_PATH = '' # insert path here\n",
        "ADV_STATS_DATA_PATH = ''  # insert path here\n",
        "\n",
        "\n",
        "df_adv_stats = pd.read_csv(ADV_STATS_DATA_PATH)\n",
        "df_event = pd.read_csv(EVENT_DATA_PATH)"
      ]
    },
    {
      "cell_type": "code",
      "execution_count": null,
      "metadata": {
        "colab": {
          "base_uri": "https://localhost:8080/",
          "height": 135
        },
        "id": "6vVk3xa86ZqN",
        "outputId": "e24c09c8-f379-4e47-e89c-5797b46c889b"
      },
      "outputs": [],
      "source": [
        "df_adv_stats.value_counts()"
      ]
    },
    {
      "cell_type": "code",
      "execution_count": null,
      "metadata": {
        "colab": {
          "base_uri": "https://localhost:8080/"
        },
        "id": "XhLpAJaF11wB",
        "outputId": "0e284e9a-c2d7-49c4-d43e-7b9fb5f59f4b"
      },
      "outputs": [],
      "source": [
        "df_adv_stats.shape"
      ]
    },
    {
      "cell_type": "code",
      "execution_count": null,
      "metadata": {
        "colab": {
          "base_uri": "https://localhost:8080/",
          "height": 307
        },
        "id": "Q3CePG728Pr_",
        "outputId": "f6bf7ae2-a897-470d-a7b1-abd1396bddac"
      },
      "outputs": [],
      "source": [
        "df_adv_stats.head()"
      ]
    },
    {
      "cell_type": "code",
      "execution_count": null,
      "metadata": {
        "colab": {
          "base_uri": "https://localhost:8080/",
          "height": 290
        },
        "id": "lQ0O2Z4p9bwo",
        "outputId": "40a959ce-ebde-42d7-8193-67e2b1496061"
      },
      "outputs": [],
      "source": [
        "df_adv_stats.tail()"
      ]
    },
    {
      "cell_type": "code",
      "execution_count": null,
      "metadata": {
        "colab": {
          "base_uri": "https://localhost:8080/",
          "height": 458
        },
        "id": "fERX2h599lIr",
        "outputId": "f6bb1e02-8384-4467-99d8-4028c4588dec"
      },
      "outputs": [],
      "source": [
        "df_adv_stats.isnull().sum()"
      ]
    },
    {
      "cell_type": "markdown",
      "metadata": {
        "id": "5gnS5sKFyx-8"
      },
      "source": [
        "Here we notice that the 'roundId' column in the dataframe has NaN values across the board so we remove it as it is not necessary going forward with the analysis"
      ]
    },
    {
      "cell_type": "code",
      "execution_count": null,
      "metadata": {
        "id": "ObeQxP1c9zFd"
      },
      "outputs": [],
      "source": [
        "df_adv_stats_modif = df_adv_stats.drop(['roundId'], axis = 1)"
      ]
    },
    {
      "cell_type": "markdown",
      "metadata": {
        "id": "9zG5HJuQYCk4"
      },
      "source": [
        "The next step was to build a correlation matrix to get a better overview of the features that are in a strongly correlated in order to select a certain number of features that will help with the defensive analysis.\n",
        "\n",
        "I have set a threshold of 0.6 as we are working with a lot of data and it can potentially capture useful information"
      ]
    },
    {
      "cell_type": "code",
      "execution_count": null,
      "metadata": {
        "id": "6V-0ld0pIIHu"
      },
      "outputs": [],
      "source": [
        "corrMatrix = df_adv_stats_modif.corr(numeric_only = True)\n",
        "threshold = 0.6\n",
        "correlationsMappings = defaultdict(list)\n",
        "\n",
        "for col1 in corrMatrix:\n",
        "  for col2 in corrMatrix:\n",
        "    if col1 != col2 and corrMatrix[col1][col2] > threshold:\n",
        "      correlationsMappings[col1].append(col2)"
      ]
    },
    {
      "cell_type": "markdown",
      "metadata": {
        "id": "00ZTvXhNy8od"
      },
      "source": [
        "The project relies on data analysis, precisely defensive data analysis for each team so for the moment these are the selected features that I think are the most important (also doing a sanity check to see if there are some noisy or irrelevant values in the dataset)"
      ]
    },
    {
      "cell_type": "code",
      "execution_count": null,
      "metadata": {
        "id": "ymdZ_JJYbAJi"
      },
      "outputs": [],
      "source": [
        "selectedStatsFeatures = df_adv_stats_modif[\n",
        "    ['team.name', 'teamId', 'total.concededGoals', 'total.successfulDefensiveActions', 'total.losses', 'total.dangerousOwnHalfLosses', 'total.interceptions', 'total.recoveries', 'total.duels', 'total.pressingDuels', 'percent.defensiveDuelsWon', 'average.opponentOffsides']\n",
        "]\n",
        "\n",
        "for ft in selectedStatsFeatures:\n",
        "   for idx, vals in enumerate(df_adv_stats_modif[ft]):\n",
        "    if ft != 'team.name': assert vals >= 0, f'Invalid value on row {idx} for feature {ft}'"
      ]
    },
    {
      "cell_type": "markdown",
      "metadata": {
        "id": "pboSRozCnYen"
      },
      "source": [
        "Normalizing the team names by removing diacrititcs so that it is easier to find them if necessary"
      ]
    },
    {
      "cell_type": "code",
      "execution_count": null,
      "metadata": {
        "colab": {
          "base_uri": "https://localhost:8080/"
        },
        "id": "4oBlsbjjKhyB",
        "outputId": "e14c35e0-7405-450c-acf9-3962f4822043"
      },
      "outputs": [],
      "source": [
        "selectedStatsFeatures['team.name'] = selectedStatsFeatures['team.name'].apply(lambda text: text.replace(\"ţ\",\"t\").replace(\"ş\",\"s\").replace(\"â\",\"a\").replace(\"ă\",\"a\").replace(\"î\",\"i\"))"
      ]
    },
    {
      "cell_type": "markdown",
      "metadata": {
        "id": "qJ1UTJvEzjL0"
      },
      "source": [
        "Introducing 4 new metrics:\n",
        " - Team defensive error rate: It takes into account the number of goals that a team conceded and the number of total successful actions across the season: if the error is high, the team is inneficient in defense and can be forced into mistakes. On the other hand, if the error is low, the team is efficient in defense and the mistakes are very rare with them\n",
        "\n",
        " - Dangerous own half losses rate: This metric tells us the percentage of dangerous own half losses a team had and also, combined with the defensive error rate metric, it can be deducted a team's performance in transition: for example, if a team has a high dangerous own half loss rate and a low defensive error rate, it means that the respective team is good in transition\n",
        "\n",
        " - Intercept recovery rate: This metric allows us to see the percentage of ball recoveries made through interceptions only. If a team has a high intercept recovery rate, thus the team pressure needs to be taken into account by the opponent for example. Contrary, if a team has a low intercept recovery rate, the opponent can use link up plays and make them vulnerable.\n",
        "\n",
        " - Pressing duels intensity rate: This metric can tell us how many duels were created through pressing, giving an overview of which team is a high pressure one and which team is a laid back patient one."
      ]
    },
    {
      "cell_type": "code",
      "execution_count": null,
      "metadata": {
        "colab": {
          "base_uri": "https://localhost:8080/"
        },
        "id": "D2sz5noHu0xw",
        "outputId": "1a7c2dd7-f522-41e0-dda5-5957b4fa2360"
      },
      "outputs": [],
      "source": [
        "selectedStatsFeatures['ownHalfLossRate'] = round((selectedStatsFeatures['total.dangerousOwnHalfLosses'] / selectedStatsFeatures['total.losses']) * 100, 2)\n",
        "selectedStatsFeatures['defensiveErrorRates'] = (selectedStatsFeatures['total.concededGoals'] / selectedStatsFeatures['total.successfulDefensiveActions'])\n",
        "selectedStatsFeatures['interceptionRecoveryRate'] = round((selectedStatsFeatures['total.interceptions'] / selectedStatsFeatures['total.recoveries']) * 100, 2)\n",
        "selectedStatsFeatures['pressingIntensityRate'] = round((selectedStatsFeatures['total.pressingDuels'] / selectedStatsFeatures['total.duels']) * 100, 2)"
      ]
    },
    {
      "cell_type": "markdown",
      "metadata": {
        "id": "Lav8vsvanW7D"
      },
      "source": [
        "The next step for the moment is to try and create team profiles based on the insights and metrics obtained."
      ]
    },
    {
      "cell_type": "code",
      "execution_count": null,
      "metadata": {
        "id": "e-Jy8IG2ra7z"
      },
      "outputs": [],
      "source": [
        "def generateTeamProfiles():\n",
        "  leagueAvg_ownHalf_Loss_Rate = selectedStatsFeatures['ownHalfLossRate'].mean()\n",
        "  leagueAvg_Def_Errors = round(selectedStatsFeatures['defensiveErrorRates'].mean(), 2)\n",
        "  leagueAvg_Interception_Recovery_Rate = selectedStatsFeatures['interceptionRecoveryRate'].mean()\n",
        "  leagueAvg_Def_Duels_Won = selectedStatsFeatures['percent.defensiveDuelsWon'].mean()\n",
        "  leagueAvg_Pressing_Intensity = selectedStatsFeatures['pressingIntensityRate'].mean()\n",
        "  allNotes = []\n",
        "\n",
        "  for(ownHalf_Loss_Rate, defError_Rate, def_duelsWon_Rate, intercept_Recovery_Rate, pressingIntensity_Rate) in zip(selectedStatsFeatures['ownHalfLossRate'], selectedStatsFeatures['defensiveErrorRates'], selectedStatsFeatures['percent.defensiveDuelsWon'], selectedStatsFeatures['interceptionRecoveryRate'], selectedStatsFeatures['pressingIntensityRate']):\n",
        "    team_profile_notes = []\n",
        "\n",
        "    if defError_Rate > leagueAvg_Def_Errors:\n",
        "      team_profile_notes.append(\"This team concedes goals in spite of their succesful defensive actions. It can be attempted to force them to make mistakes\" + '\\n')\n",
        "\n",
        "    else:\n",
        "      team_profile_notes.append(f\"This team is not defensive error prone. They have an error rate of {defError_Rate}% and mistakes are rare with them\" + '\\n')\n",
        "\n",
        "    if ownHalf_Loss_Rate > leagueAvg_ownHalf_Loss_Rate:\n",
        "      team_profile_notes.append(f\"This team tends to lose the ball frequently in its own half, with a loss percentage of {ownHalf_Loss_Rate}% which is above the league average\" + '\\n')\n",
        "\n",
        "    else:\n",
        "      team_profile_notes.append(f\"This team does not lose the ball that often in its own half, with a loss percentage of {ownHalf_Loss_Rate}%, proving that the team has a high control in its own half\" + '\\n')\n",
        "\n",
        "    if def_duelsWon_Rate > leagueAvg_Def_Duels_Won:\n",
        "      team_profile_notes.append(f\"This team is very good in 1 on 1 defensive situations, with a {def_duelsWon_Rate}% of won duels\" + '\\n')\n",
        "\n",
        "    else:\n",
        "      team_profile_notes.append(f\"This team is below the league average on 1 on 1 defensive situations, they can be vulnerable there\" + '\\n')\n",
        "\n",
        "    if intercept_Recovery_Rate > leagueAvg_Interception_Recovery_Rate:\n",
        "      team_profile_notes.append(\"This team performs well when recovering the posssesion by interceptions\" + '\\n')\n",
        "\n",
        "    else:\n",
        "      team_profile_notes.append(f\"This team is below the league average when recovering the posssesion by interceptions, with {intercept_Recovery_Rate}%. They can be vulnerable against successful link up plays\" + '\\n')\n",
        "\n",
        "    if pressingIntensity_Rate > leagueAvg_Pressing_Intensity:\n",
        "      team_profile_notes.append(f\"This team is a high pressing one. Watch out for their intensity and try to not lose the ball. Try to force them into a mistake and catch them off guard\" + '\\n')\n",
        "\n",
        "    else:\n",
        "      team_profile_notes.append(f\"This team is a laid back one in terms of pressing. They will be patient when recovering the ball\" + '\\n')\n",
        "\n",
        "    allNotes.append(\" ,\".join(team_profile_notes))\n",
        "\n",
        "  selectedStatsFeatures['teamProfile'] = allNotes"
      ]
    },
    {
      "cell_type": "code",
      "execution_count": null,
      "metadata": {
        "colab": {
          "base_uri": "https://localhost:8080/"
        },
        "id": "5T7fp7HNuGuK",
        "outputId": "be80ae76-4373-4d46-94e6-56b9f8ad58ce"
      },
      "outputs": [],
      "source": [
        "generateTeamProfiles()"
      ]
    },
    {
      "cell_type": "code",
      "execution_count": null,
      "metadata": {
        "id": "juVbHWfebE-C"
      },
      "outputs": [],
      "source": [
        "selectedStatsFeatures.to_csv('Team_DefenseMetrics_Profiles.csv', index = False)"
      ]
    },
    {
      "cell_type": "markdown",
      "metadata": {
        "id": "ntfhYecMn6dS"
      },
      "source": [
        "Defining a plotting method in order to get a first visualization of our obtained results"
      ]
    },
    {
      "cell_type": "code",
      "execution_count": null,
      "metadata": {
        "id": "zQ147dkzn-mc"
      },
      "outputs": [],
      "source": [
        "def plotTeamsData(teams, plottingValues, plotTitle, yLabel):\n",
        "    plt.figure(figsize=(10, 5))\n",
        "    plt.bar(teams, plottingValues, color='blue', width=0.5)\n",
        "    plt.xticks(rotation=55, ha='right', fontsize=10)\n",
        "    plt.title(plotTitle)\n",
        "    plt.ylabel(yLabel)\n",
        "    plt.tight_layout()\n",
        "    plt.show()"
      ]
    },
    {
      "cell_type": "code",
      "execution_count": null,
      "metadata": {
        "colab": {
          "base_uri": "https://localhost:8080/",
          "height": 1000
        },
        "id": "tiHwPO7XpJed",
        "outputId": "d7428aef-0a32-4628-ac20-24f6c460e8f1"
      },
      "outputs": [],
      "source": [
        "teams = selectedStatsFeatures['team.name']\n",
        "plotTeamsData(teams, selectedStatsFeatures['ownHalfLossRate'], 'Own half loss rate per team', 'Own half loss rates (%)')\n",
        "plotTeamsData(teams, selectedStatsFeatures['interceptionRecoveryRate'], 'Interception recovery rates per team', 'Interception recovery rates(%)')\n",
        "plotTeamsData(teams, selectedStatsFeatures['pressingIntensityRate'], 'Pressing intensity rate per team', 'Pressing intensity rate(%)')"
      ]
    },
    {
      "cell_type": "markdown",
      "metadata": {
        "id": "Whxgh87Jow97"
      },
      "source": [
        "Now, let's also look at the event data for the team Dinamo Bucuresti and try to observe the defense plays."
      ]
    },
    {
      "cell_type": "code",
      "execution_count": null,
      "metadata": {
        "colab": {
          "base_uri": "https://localhost:8080/"
        },
        "id": "SR7ECiMtqb-I",
        "outputId": "30bb5505-65a0-42a7-a80f-7be1e813599b"
      },
      "outputs": [],
      "source": [
        "df_event.shape"
      ]
    },
    {
      "cell_type": "code",
      "execution_count": null,
      "metadata": {
        "colab": {
          "base_uri": "https://localhost:8080/",
          "height": 602
        },
        "id": "gJNuS_m8qdyk",
        "outputId": "cdb54e38-a68b-46cc-c39f-8827b991bcd3"
      },
      "outputs": [],
      "source": [
        "df_event.head()"
      ]
    },
    {
      "cell_type": "code",
      "execution_count": null,
      "metadata": {
        "colab": {
          "base_uri": "https://localhost:8080/",
          "height": 516
        },
        "id": "oFWXDXW2qjrg",
        "outputId": "a33247ac-d44b-4abf-e078-9a56a47b2ecb"
      },
      "outputs": [],
      "source": [
        "df_event.tail()"
      ]
    },
    {
      "cell_type": "markdown",
      "metadata": {
        "id": "3fpRGM8HoCgo"
      },
      "source": [
        "Knowing that this project is focused on analyzing the defensive phase of the match, we filter the dataframe so that all the events are centralized around Dinamo Bucuresti's defensive moments. As a result, the dataframe is filtered by the opponent team name to be \"Dinamo Bucuresti\"\n",
        "\n",
        "Afterwards, in the same manner as the advanced stats dataframe feature selection, we have selected a number of features that would be helpful in the event data analysis."
      ]
    },
    {
      "cell_type": "code",
      "execution_count": null,
      "metadata": {
        "colab": {
          "base_uri": "https://localhost:8080/",
          "height": 857
        },
        "id": "0n1XOLlnqmQ6",
        "outputId": "141d9527-bcb8-4029-93d9-9d82c1b2722d"
      },
      "outputs": [],
      "source": [
        "oppPlaysFilter = df_event['opponentTeam.name'] == \"Dinamo Bucureşti\"\n",
        "\n",
        "filteredEventDf = df_event[oppPlaysFilter]\n",
        "selectedEventFeatures = filteredEventDf[\n",
        "    ['id', 'matchId', 'type.primary', 'type.secondary', 'location.x', 'location.y', 'player.name', 'team.name', 'label', 'points']\n",
        "]\n",
        "\n",
        "selectedEventFeatures"
      ]
    },
    {
      "cell_type": "markdown",
      "metadata": {
        "id": "4uKzIa6-ozjz"
      },
      "source": [
        "Normalizing the team names once again"
      ]
    },
    {
      "cell_type": "code",
      "execution_count": null,
      "metadata": {
        "colab": {
          "base_uri": "https://localhost:8080/"
        },
        "id": "YwGun4K6MSNL",
        "outputId": "c80e4485-61df-4df5-b456-06537d260f66"
      },
      "outputs": [],
      "source": [
        "selectedEventFeatures['team.name'] = selectedEventFeatures['team.name'].apply(lambda text: text.replace(\"ţ\",\"t\").replace(\"ş\",\"s\").replace(\"ă\",\"a\"))\n",
        "selectedEventFeatures['label'] = selectedEventFeatures['label'].apply(lambda text: text.replace(\"ţ\",\"t\").replace(\"ş\",\"s\").replace(\"ă\",\"a\"))"
      ]
    },
    {
      "cell_type": "markdown",
      "metadata": {
        "id": "LkMgQZrjo3Qj"
      },
      "source": [
        "Mapping each team to the match results"
      ]
    },
    {
      "cell_type": "code",
      "execution_count": null,
      "metadata": {
        "id": "iQCODXjm0sPW"
      },
      "outputs": [],
      "source": [
        "allMatchesResultsMapping = defaultdict(list)\n",
        "allTeams = set(selectedEventFeatures['team.name'])\n",
        "allMatches = set(selectedEventFeatures['label'])\n",
        "\n",
        "for team in allTeams:\n",
        "  for mtch in allMatches:\n",
        "    if team in mtch: allMatchesResultsMapping[team].append(mtch)"
      ]
    },
    {
      "cell_type": "markdown",
      "metadata": {
        "id": "WpeWKhq_izOy"
      },
      "source": [
        "Saving this dictionary as a json file so that it can be easily used locally"
      ]
    },
    {
      "cell_type": "code",
      "execution_count": null,
      "metadata": {
        "id": "oJuUxgmyi3WZ"
      },
      "outputs": [],
      "source": [
        "with open('matchResultsMappings.json', 'w') as fp:\n",
        "    json.dump(allMatchesResultsMapping, fp)"
      ]
    },
    {
      "cell_type": "markdown",
      "metadata": {
        "id": "Cvtd3TlGo9Dj"
      },
      "source": [
        "Visualizing the number of points Dinamo Bucuresti has obtained against each team in the league. After visualization we find out that FCSB is Dinamo's best opponent"
      ]
    },
    {
      "cell_type": "code",
      "execution_count": null,
      "metadata": {
        "colab": {
          "base_uri": "https://localhost:8080/",
          "height": 506
        },
        "id": "8KRy9qSb7OXp",
        "outputId": "69fd40cb-60ac-466c-b133-62244dc0c505"
      },
      "outputs": [],
      "source": [
        "allPoints = []\n",
        "\n",
        "for results in allMatchesResultsMapping.values():\n",
        "  points_Against_Current_Team = 0\n",
        "\n",
        "  for matchResult in results:\n",
        "    matchResLoc = selectedEventFeatures.loc[selectedEventFeatures['label'] == matchResult]\n",
        "    points_Against_Current_Team += int(matchResLoc['points'].iloc[0])\n",
        "    continue\n",
        "\n",
        "  allPoints.append(points_Against_Current_Team)\n",
        "\n",
        "\n",
        "plotTeamsData(allMatchesResultsMapping.keys(), allPoints, 'Dinamo Bucuresti points against each team in the league', 'Points')"
      ]
    },
    {
      "cell_type": "markdown",
      "metadata": {
        "id": "RhEJdpAmpHO_"
      },
      "source": [
        "Next, let's see the events that lead to ball turnovers and ball recoveries from each team. This helps the analysis by looking at weak areas when the ball is turned over by the opponent and strong areas when the ball is recovered"
      ]
    },
    {
      "cell_type": "code",
      "execution_count": null,
      "metadata": {
        "id": "wLWJjlSQctk4"
      },
      "outputs": [],
      "source": [
        "def get_Turnover_Recovery_Data(matchResultData):\n",
        "  for team in matchResultData:\n",
        "    opponentBallTurnover_Events = {}\n",
        "    opponentBallRecovery_Events = {}\n",
        "\n",
        "    for result in matchResultData[team]:\n",
        "      matchEvents = selectedEventFeatures.loc[selectedEventFeatures['label'] == result]\n",
        "\n",
        "      for primaryEvent, secondaryEvents in zip(matchEvents['type.primary'], matchEvents['type.secondary']):\n",
        "        if 'loss' in secondaryEvents:\n",
        "          if primaryEvent not in opponentBallTurnover_Events: opponentBallTurnover_Events[primaryEvent] = 1\n",
        "          else: opponentBallTurnover_Events[primaryEvent] += 1\n",
        "\n",
        "        if 'loss' not in secondaryEvents and 'recovery' in secondaryEvents:\n",
        "          if primaryEvent not in opponentBallRecovery_Events: opponentBallRecovery_Events[primaryEvent] = 1\n",
        "          else: opponentBallRecovery_Events[primaryEvent] += 1\n",
        "\n",
        "    plotTeamsData(opponentBallTurnover_Events.keys(), opponentBallTurnover_Events.values(), f'{team} ball turnover events against Dinamo Bucuresti across all matches played', 'Ball turnover events')\n",
        "    plotTeamsData(opponentBallRecovery_Events.keys(), opponentBallRecovery_Events.values(), f'{team} ball recovery against Dinamo Bucuresti across all matches played', 'Ball recovery events')"
      ]
    },
    {
      "cell_type": "code",
      "execution_count": null,
      "metadata": {
        "colab": {
          "base_uri": "https://localhost:8080/",
          "height": 1000
        },
        "id": "hW9TnFCGdnbs",
        "outputId": "2507e877-b63f-46cf-f858-7d3908e7fd52"
      },
      "outputs": [],
      "source": [
        "get_Turnover_Recovery_Data(allMatchesResultsMapping)\n"
      ]
    },
    {
      "cell_type": "markdown",
      "metadata": {
        "id": "jVPKSqsLpf0F"
      },
      "source": [
        "To get a even better overview, a heat map of ball turnovers and ball recoveries is created for each team"
      ]
    },
    {
      "cell_type": "code",
      "execution_count": null,
      "metadata": {
        "id": "YMWWw9JDdRtJ"
      },
      "outputs": [],
      "source": [
        "def get_Loss_Recovery_Coordinates(team_Name):\n",
        "  team_Events = selectedEventFeatures['team.name'] == team_Name\n",
        "  filtered_Events = selectedEventFeatures[team_Events][['location.x', 'location.y', 'type.secondary']]\n",
        "  X_loss = []\n",
        "  Y_loss = []\n",
        "  X_recovery = []\n",
        "  Y_recovery = []\n",
        "\n",
        "  for loc_x, loc_y, secondaryEvents in zip(filtered_Events['location.x'], filtered_Events['location.y'], filtered_Events['type.secondary']):\n",
        "    if 'loss' in secondaryEvents:\n",
        "      X_loss.append(loc_x)\n",
        "      Y_loss.append(loc_y)\n",
        "\n",
        "    if 'recovery' in secondaryEvents:\n",
        "      X_recovery.append(loc_x)\n",
        "      Y_recovery.append(loc_y)\n",
        "\n",
        "  return X_loss, Y_loss, X_recovery, Y_recovery\n"
      ]
    },
    {
      "cell_type": "code",
      "execution_count": null,
      "metadata": {
        "id": "r688wjexUVUA"
      },
      "outputs": [],
      "source": [
        "# Method taken from https://fcpython.com/visualisation/football-heatmaps-seaborn\n",
        "\n",
        "def plot_Loss_Recovery_HeatMap(draw_ax):\n",
        "\n",
        "  #Pitch Outline & Centre Line\n",
        "  draw_ax.plot([0,0],[0,90], color=\"black\")\n",
        "  draw_ax.plot([0,130],[90,90], color=\"black\")\n",
        "  draw_ax.plot([130,130],[90,0], color=\"black\")\n",
        "  draw_ax.plot([130,0],[0,0], color=\"black\")\n",
        "  draw_ax.plot([65,65],[0,90], color=\"black\")\n",
        "\n",
        "  #Left Penalty Area\n",
        "  draw_ax.plot([16.5,16.5],[65,25],color=\"black\")\n",
        "  draw_ax.plot([0,16.5],[65,65],color=\"black\")\n",
        "  draw_ax.plot([16.5,0],[25,25],color=\"black\")\n",
        "\n",
        "  #Right Penalty Area\n",
        "  draw_ax.plot([130,113.5],[65,65],color=\"black\")\n",
        "  draw_ax.plot([113.5,113.5],[65,25],color=\"black\")\n",
        "  draw_ax.plot([113.5,130],[25,25],color=\"black\")\n",
        "\n",
        "  #Left 6-yard Box\n",
        "  draw_ax.plot([0,5.5],[54,54],color=\"black\")\n",
        "  draw_ax.plot([5.5,5.5],[54,36],color=\"black\")\n",
        "  draw_ax.plot([5.5,0.5],[36,36],color=\"black\")\n",
        "\n",
        "  #Right 6-yard Box\n",
        "  draw_ax.plot([130,124.5],[54,54],color=\"black\")\n",
        "  draw_ax.plot([124.5,124.5],[54,36],color=\"black\")\n",
        "  draw_ax.plot([124.5,130],[36,36],color=\"black\")\n",
        "\n",
        "  #Prepare Circles\n",
        "  centreCircle = plt.Circle((65,45),9.15,color=\"black\",fill=False)\n",
        "  centreSpot = plt.Circle((65,45),0.8,color=\"black\")\n",
        "  leftPenSpot = plt.Circle((11,45),0.8,color=\"black\")\n",
        "  rightPenSpot = plt.Circle((119,45),0.8,color=\"black\")\n",
        "\n",
        "  #Draw Circles\n",
        "  draw_ax.add_patch(centreCircle)\n",
        "  draw_ax.add_patch(centreSpot)\n",
        "  draw_ax.add_patch(leftPenSpot)\n",
        "  draw_ax.add_patch(rightPenSpot)\n",
        "\n",
        "  #Prepare Arcs\n",
        "  leftArc = Arc((11,45),height=18.3,width=18.3,angle=0,theta1=310,theta2=50,color=\"black\")\n",
        "  rightArc = Arc((119,45),height=18.3,width=18.3,angle=0,theta1=130,theta2=230,color=\"black\")\n",
        "\n",
        "  #Draw Arcs\n",
        "  draw_ax.add_patch(leftArc)\n",
        "  draw_ax.add_patch(rightArc)\n",
        "\n",
        "  #Tidy Axes\n",
        "  draw_ax.axis('off')\n",
        "\n",
        "  draw_ax.set_ylim(0, 90)\n",
        "  draw_ax.set_xlim(0, 130)"
      ]
    },
    {
      "cell_type": "code",
      "execution_count": null,
      "metadata": {
        "colab": {
          "base_uri": "https://localhost:8080/",
          "height": 1000
        },
        "id": "-_JNrw-bgwF-",
        "outputId": "dbe99e60-0a5f-4494-dd7a-16abe92d4989"
      },
      "outputs": [],
      "source": [
        "for team_Name in allTeams:\n",
        "  fig, axs = plt.subplots(1, 2, figsize=(12, 5))\n",
        "\n",
        "  axs[0].set_title(f'{team_Name} ball turnover heat map')\n",
        "  axs[1].set_title(f'{team_Name} ball recovery heat map')\n",
        "\n",
        "  X_loss, Y_loss, X_recovery, Y_recovery = get_Loss_Recovery_Coordinates(team_Name)\n",
        "\n",
        "  plot_Loss_Recovery_HeatMap(axs[0])\n",
        "  sns.kdeplot(x=X_loss, y=Y_loss, fill=True, n_levels=50, ax=axs[0])\n",
        "\n",
        "  plot_Loss_Recovery_HeatMap(axs[1])\n",
        "  sns.kdeplot(x=X_recovery, y=Y_recovery, fill=True, n_levels=50, ax=axs[1])\n",
        "\n",
        "  plt.tight_layout()\n",
        "  plt.show()"
      ]
    },
    {
      "cell_type": "code",
      "execution_count": null,
      "metadata": {
        "colab": {
          "base_uri": "https://localhost:8080/",
          "height": 153
        },
        "id": "KAkjux8JIcb4",
        "outputId": "e6c208e7-a3f7-4cf6-9305-fd2226100fa8"
      },
      "outputs": [],
      "source": [
        "filtered_Team_Stats = selectedStatsFeatures['team.name'] == 'FCS Bucuresti'\n",
        "\n",
        "selectedStatsFeatures[filtered_Team_Stats]"
      ]
    }
  ],
  "metadata": {
    "colab": {
      "provenance": []
    },
    "kernelspec": {
      "display_name": "Python 3",
      "name": "python3"
    },
    "language_info": {
      "name": "python"
    }
  },
  "nbformat": 4,
  "nbformat_minor": 0
}
